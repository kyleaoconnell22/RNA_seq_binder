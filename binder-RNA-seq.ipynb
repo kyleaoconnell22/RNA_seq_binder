{
 "cells": [
  {
   "cell_type": "markdown",
   "id": "9b593f0e",
   "metadata": {},
   "source": [
    "This notebook is a test notebook from the NIGMS ME-INBRE project that will run an RNAseq workflow."
   ]
  },
  {
   "cell_type": "code",
   "execution_count": null,
   "id": "982e79aa",
   "metadata": {},
   "outputs": [],
   "source": [
    "# Import necessary packages\n",
    "import subprocess as sp\n",
    "import os"
   ]
  },
  {
   "cell_type": "code",
   "execution_count": null,
   "id": "1ab9f3f4",
   "metadata": {
    "scrolled": true
   },
   "outputs": [],
   "source": [
    "# Test out the following commands. First,  set up your directory structure and download files with this command. \n",
    "# You can peek at what it is doing by typing cat scripts/setup.sh.\n",
    "# Note that since this is Python script we have to wrap our bash commands in supprocess calls\n",
    "shell_call = \"sh scripts/setup.sh\"\n",
    "proc_shell = sp.call(shell_call,shell=True)\n"
   ]
  },
  {
   "cell_type": "code",
   "execution_count": null,
   "id": "767dc95d",
   "metadata": {},
   "outputs": [],
   "source": [
    "# Everything should now be downloaded\n",
    "# Let's trim our raw reads\n",
    "# First make a list of all files we want to trim (here we only have two)\n",
    "files = [i.strip() for i in open(\"scripts/samples\")]\n",
    "# Then create a loop for each file\n",
    "# use 'f' string to insert the {f} variable for each sample\n",
    "for f in files:\n",
    "    trim_call = f\"trimmomatic SE -threads 4 data/raw_fastq/{f}.fastq data/trimmed/{f}_trimmed.fastq ILLUMINACLIP:TruSeq3-PE.fa:2:30:10:2:keepBothReads LEADING:3 TRAILING:3 MINLEN:36\"\n",
    "    proc_shell = sp.call(trim_call,shell=True)\n",
    "    \n"
   ]
  },
  {
   "cell_type": "code",
   "execution_count": null,
   "id": "c84a2166",
   "metadata": {
    "scrolled": true
   },
   "outputs": [],
   "source": [
    "# Let's align reads to the reference genome\n",
    "# Asign Ref variable\n",
    "REF='data/reference/M_chelonae_NZ_CP007220.fasta'\n",
    "for f in files:\n",
    "    bwa_call = f\"bwa mem -t 4 -R '@RG\\\\tID:{f}\\\\tSM:{f}' {REF} data/trimmed/{f}_trimmed.fastq > data/aligned/{f}.sam\"\n",
    "    proc_bwa = sp.call(bwa_call,shell=True)"
   ]
  },
  {
   "cell_type": "code",
   "execution_count": null,
   "id": "2339eea5",
   "metadata": {},
   "outputs": [],
   "source": [
    "# Convert our sam file to binary form (bam)\n",
    "for f in files:\n",
    "    samtools_call = f\"samtools view -S -b data/aligned/{f}.sam > data/aligned/{f}.bam\"\n",
    "    proc_samtools = sp.call(samtools_call,shell=True)"
   ]
  },
  {
   "cell_type": "code",
   "execution_count": null,
   "id": "8aec526e",
   "metadata": {},
   "outputs": [],
   "source": [
    "# Lets see how well our fastq files mapped to the reference genome\n",
    "for f in files:\n",
    "    depth_call = f\"samtools flagstat data/aligned/{f}.bam > data/stats/{f}.flagstat.out\"\n",
    "    proc_depth = sp.call(depth_call,shell=True)\n",
    "\n",
    "# Lets view the output\n",
    "for f in files:\n",
    "    print(f'mapping stats for {f}')\n",
    "    catfile_call = f\"cat data/stats/{f}.flagstat.out\"\n",
    "    proc_catfile = sp.call(catfile_call,shell=True)\n",
    "    print ('\\n'*2)\n"
   ]
  },
  {
   "cell_type": "code",
   "execution_count": null,
   "id": "d2315495",
   "metadata": {},
   "outputs": [],
   "source": [
    "# Sort our BAM files so they are in the same order as the reference genome\n",
    "for f in files:\n",
    "    sort_call = f\"gatk SortSam -I data/aligned/{f}.bam -O data/sorted/{f}.bam -SO coordinate\"\n",
    "    proc_sort = sp.call(sort_call,shell=True)"
   ]
  },
  {
   "cell_type": "code",
   "execution_count": null,
   "id": "70b658d4",
   "metadata": {},
   "outputs": [],
   "source": [
    "# Mark Duplicates from sequencing (optical) and the wetlab (PCR duplicates)\n",
    "for f in files:\n",
    "    dups_call = f\"gatk MarkDuplicates I=data/sorted/{f}.bam O=data/mkdups/{f}.bam M=data/mkdups/{f}.metrics.txt\"\n",
    "    proc_dups = sp.call(dups_call,shell=True)"
   ]
  },
  {
   "cell_type": "code",
   "execution_count": null,
   "id": "e7611cc6",
   "metadata": {},
   "outputs": [],
   "source": [
    "# Index BAMS\n",
    "for f in files:\n",
    "    index_call = f\"samtools index -@ 4 data/mkdups/{f}.bam\"\n",
    "    proc_index = sp.call(index_call,shell=True)"
   ]
  },
  {
   "cell_type": "code",
   "execution_count": null,
   "id": "2f5b9028",
   "metadata": {},
   "outputs": [],
   "source": [
    "# Call variants using GATK HaplotypeCAller\n",
    "for f in files:\n",
    "    var_call = f\"gatk HaplotypeCaller -I data/mkdups/{f}.bam -O data/calls/{f}.vcf -R {REF} --output-mode EMIT_VARIANTS_ONLY\"\n",
    "    proc_var = sp.call(var_call,shell=True)"
   ]
  },
  {
   "cell_type": "code",
   "execution_count": null,
   "id": "3d337cbc",
   "metadata": {},
   "outputs": [],
   "source": [
    "# Let's see how many variants we have! \n",
    "# How many variants do we have? \n",
    "for f in files:\n",
    "    vcf_call = f\"vcftools --vcf data/calls/{f}.vcf\"\n",
    "    proc_vcf = sp.call(vcf_call,shell=True)"
   ]
  }
 ],
 "metadata": {
  "kernelspec": {
   "display_name": "Python 3 (ipykernel)",
   "language": "python",
   "name": "python3"
  },
  "language_info": {
   "codemirror_mode": {
    "name": "ipython",
    "version": 3
   },
   "file_extension": ".py",
   "mimetype": "text/x-python",
   "name": "python",
   "nbconvert_exporter": "python",
   "pygments_lexer": "ipython3",
   "version": "3.9.5"
  }
 },
 "nbformat": 4,
 "nbformat_minor": 5
}
