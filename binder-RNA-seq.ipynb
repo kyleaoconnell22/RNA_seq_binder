{
 "cells": [
  {
   "cell_type": "markdown",
   "id": "9b593f0e",
   "metadata": {},
   "source": [
    "This notebook is a test notebook from the NIGMS ME-INBRE project that will run an RNAseq workflow."
   ]
  },
  {
   "cell_type": "code",
   "execution_count": 22,
   "id": "982e79aa",
   "metadata": {},
   "outputs": [],
   "source": [
    "# Import necessary packages\n",
    "import subprocess as sp\n",
    "import os"
   ]
  },
  {
   "cell_type": "code",
   "execution_count": 23,
   "id": "1ab9f3f4",
   "metadata": {
    "scrolled": true
   },
   "outputs": [
    {
     "name": "stderr",
     "output_type": "stream",
     "text": [
      "  % Total    % Received % Xferd  Average Speed   Time    Time     Time  Current\n",
      "                                 Dload  Upload   Total   Spent    Left  Speed\n",
      "100  280M  100  280M    0     0  35.1M      0  0:00:07  0:00:07 --:--:-- 32.7M\n",
      "  % Total    % Received % Xferd  Average Speed   Time    Time     Time  Current\n",
      "                                 Dload  Upload   Total   Spent    Left  Speed\n",
      "100  280M  100  280M    0     0  32.6M      0  0:00:08  0:00:08 --:--:-- 32.6M\n",
      "  % Total    % Received % Xferd  Average Speed   Time    Time     Time  Current\n",
      "                                 Dload  Upload   Total   Spent    Left  Speed\n",
      "100 4982k  100 4982k    0     0  17.5M      0 --:--:-- --:--:-- --:--:-- 17.5M\n",
      "  % Total    % Received % Xferd  Average Speed   Time    Time     Time  Current\n",
      "                                 Dload  Upload   Total   Spent    Left  Speed\n",
      "100    12  100    12    0     0    144      0 --:--:-- --:--:-- --:--:--   144\n",
      "  % Total    % Received % Xferd  Average Speed   Time    Time     Time  Current\n",
      "                                 Dload  Upload   Total   Spent    Left  Speed\n",
      "100   105  100   105    0     0   1206      0 --:--:-- --:--:-- --:--:--  1206\n",
      "  % Total    % Received % Xferd  Average Speed   Time    Time     Time  Current\n",
      "                                 Dload  Upload   Total   Spent    Left  Speed\n",
      "100 4912k  100 4912k    0     0  18.3M      0 --:--:-- --:--:-- --:--:-- 18.3M\n",
      "  % Total    % Received % Xferd  Average Speed   Time    Time     Time  Current\n",
      "                                 Dload  Upload   Total   Spent    Left  Speed\n",
      "100    31  100    31    0     0    369      0 --:--:-- --:--:-- --:--:--   369\n",
      "  % Total    % Received % Xferd  Average Speed   Time    Time     Time  Current\n",
      "                                 Dload  Upload   Total   Spent    Left  Speed\n",
      "100 1227k  100 1227k    0     0  6362k      0 --:--:-- --:--:-- --:--:-- 6395k\n",
      "  % Total    % Received % Xferd  Average Speed   Time    Time     Time  Current\n",
      "                                 Dload  Upload   Total   Spent    Left  Speed\n",
      "100 2456k  100 2456k    0     0  10.9M      0 --:--:-- --:--:-- --:--:-- 10.9M\n",
      "  % Total    % Received % Xferd  Average Speed   Time    Time     Time  Current\n",
      "                                 Dload  Upload   Total   Spent    Left  Speed\n",
      "100   170  100   170    0     0   1752      0 --:--:-- --:--:-- --:--:--  1752\n"
     ]
    }
   ],
   "source": [
    "# Test out the following commands. First, set up your directory structure and download files with this command. \n",
    "# You can peek at what it is doing by typing cat scripts/setup.sh.\n",
    "# Note that since this is Python script we have to wrap our bash commands in supprocess calls\n",
    "shell_call = \"sh scripts/setup.sh\"\n",
    "proc_shell = sp.call(shell_call,shell=True)\n"
   ]
  },
  {
   "cell_type": "code",
   "execution_count": 24,
   "id": "767dc95d",
   "metadata": {},
   "outputs": [
    {
     "name": "stderr",
     "output_type": "stream",
     "text": [
      "TrimmomaticSE: Started with arguments:\n",
      " -threads 4 data/raw_fastq/SRR13349122.fastq data/trimmed/SRR13349122_trimmed.fastq ILLUMINACLIP:TruSeq3-PE.fa:2:30:10:2:keepBothReads LEADING:3 TRAILING:3 MINLEN:36\n",
      "Using PrefixPair: 'TACACTCTTTCCCTACACGACGCTCTTCCGATCT' and 'GTGACTGGAGTTCAGACGTGTGCTCTTCCGATCT'\n",
      "ILLUMINACLIP: Using 1 prefix pairs, 0 forward/reverse sequences, 0 forward only sequences, 0 reverse only sequences\n",
      "Quality encoding detected as phred33\n",
      "Input Reads: 2000000 Surviving: 2000000 (100.00%) Dropped: 0 (0.00%)\n",
      "TrimmomaticSE: Completed successfully\n",
      "TrimmomaticSE: Started with arguments:\n",
      " -threads 4 data/raw_fastq/SRR13349123.fastq data/trimmed/SRR13349123_trimmed.fastq ILLUMINACLIP:TruSeq3-PE.fa:2:30:10:2:keepBothReads LEADING:3 TRAILING:3 MINLEN:36\n",
      "Using PrefixPair: 'TACACTCTTTCCCTACACGACGCTCTTCCGATCT' and 'GTGACTGGAGTTCAGACGTGTGCTCTTCCGATCT'\n",
      "ILLUMINACLIP: Using 1 prefix pairs, 0 forward/reverse sequences, 0 forward only sequences, 0 reverse only sequences\n",
      "Quality encoding detected as phred33\n",
      "Input Reads: 2000000 Surviving: 2000000 (100.00%) Dropped: 0 (0.00%)\n",
      "TrimmomaticSE: Completed successfully\n"
     ]
    }
   ],
   "source": [
    "# Everything should now be downloaded\n",
    "# Let's trim our raw reads\n",
    "# First make a list of all files we want to trim (here we only have two)\n",
    "files = [i.strip() for i in open(\"scripts/samples\")]\n",
    "# Then create a loop for each file\n",
    "# use 'f' string to insert the {f} variable for each sample\n",
    "for f in files:\n",
    "    trim_call = f\"trimmomatic SE -threads 4 data/raw_fastq/{f}.fastq data/trimmed/{f}_trimmed.fastq ILLUMINACLIP:TruSeq3-PE.fa:2:30:10:2:keepBothReads LEADING:3 TRAILING:3 MINLEN:36\"\n",
    "    proc_shell = sp.call(trim_call,shell=True)\n",
    "    \n"
   ]
  },
  {
   "cell_type": "code",
   "execution_count": 25,
   "id": "c84a2166",
   "metadata": {
    "scrolled": true
   },
   "outputs": [
    {
     "name": "stderr",
     "output_type": "stream",
     "text": [
      "[M::bwa_idx_load_from_disk] read 0 ALT contigs\n",
      "[M::process] read 784336 sequences (40000070 bp)...\n",
      "[M::process] read 784338 sequences (40000056 bp)...\n",
      "[M::mem_process_seqs] Processed 784336 reads in 13.867 CPU sec, 3.338 real sec\n",
      "[M::process] read 431326 sequences (21996952 bp)...\n",
      "[M::mem_process_seqs] Processed 784338 reads in 14.448 CPU sec, 3.320 real sec\n",
      "[M::mem_process_seqs] Processed 431326 reads in 9.044 CPU sec, 1.993 real sec\n",
      "[main] Version: 0.7.17-r1188\n",
      "[main] CMD: bwa mem -t 4 -R @RG\\tID:SRR13349122\\tSM:SRR13349122 data/reference/M_chelonae_NZ_CP007220.fasta data/trimmed/SRR13349122_trimmed.fastq\n",
      "[main] Real time: 9.629 sec; CPU: 38.320 sec\n",
      "[M::bwa_idx_load_from_disk] read 0 ALT contigs\n",
      "[M::process] read 784318 sequences (40000061 bp)...\n",
      "[M::process] read 784318 sequences (40000057 bp)...\n",
      "[M::mem_process_seqs] Processed 784318 reads in 14.831 CPU sec, 3.581 real sec\n",
      "[M::process] read 431364 sequences (21999487 bp)...\n",
      "[M::mem_process_seqs] Processed 784318 reads in 16.200 CPU sec, 3.724 real sec\n",
      "[M::mem_process_seqs] Processed 431364 reads in 9.637 CPU sec, 2.137 real sec\n",
      "[main] Version: 0.7.17-r1188\n",
      "[main] CMD: bwa mem -t 4 -R @RG\\tID:SRR13349123\\tSM:SRR13349123 data/reference/M_chelonae_NZ_CP007220.fasta data/trimmed/SRR13349123_trimmed.fastq\n",
      "[main] Real time: 10.380 sec; CPU: 41.594 sec\n"
     ]
    }
   ],
   "source": [
    "# Let's align reads to the reference genome\n",
    "# Asign Ref variable\n",
    "REF='data/reference/M_chelonae_NZ_CP007220.fasta'\n",
    "for f in files:\n",
    "    bwa_call = f\"bwa mem -t 4 -R '@RG\\\\tID:{f}\\\\tSM:{f}' {REF} data/trimmed/{f}_trimmed.fastq > data/aligned/{f}.sam\"\n",
    "    proc_bwa = sp.call(bwa_call,shell=True)"
   ]
  },
  {
   "cell_type": "code",
   "execution_count": 29,
   "id": "2339eea5",
   "metadata": {},
   "outputs": [],
   "source": [
    "# Convert our sam file to binary form (bam)\n",
    "for f in files:\n",
    "    samtools_call = f\"samtools view -S -b data/aligned/{f}.sam > data/aligned/{f}.bam\"\n",
    "    proc_samtools = sp.call(samtools_call,shell=True)"
   ]
  },
  {
   "cell_type": "code",
   "execution_count": 30,
   "id": "8aec526e",
   "metadata": {},
   "outputs": [
    {
     "name": "stdout",
     "output_type": "stream",
     "text": [
      "mapping stats for SRR13349122\n",
      "2000005 + 0 in total (QC-passed reads + QC-failed reads)\n",
      "0 + 0 secondary\n",
      "5 + 0 supplementary\n",
      "0 + 0 duplicates\n",
      "1985433 + 0 mapped (99.27% : N/A)\n",
      "0 + 0 paired in sequencing\n",
      "0 + 0 read1\n",
      "0 + 0 read2\n",
      "0 + 0 properly paired (N/A : N/A)\n",
      "0 + 0 with itself and mate mapped\n",
      "0 + 0 singletons (N/A : N/A)\n",
      "0 + 0 with mate mapped to a different chr\n",
      "0 + 0 with mate mapped to a different chr (mapQ>=5)\n",
      "\n",
      "\n",
      "\n",
      "mapping stats for SRR13349123\n",
      "2000003 + 0 in total (QC-passed reads + QC-failed reads)\n",
      "0 + 0 secondary\n",
      "3 + 0 supplementary\n",
      "0 + 0 duplicates\n",
      "1990036 + 0 mapped (99.50% : N/A)\n",
      "0 + 0 paired in sequencing\n",
      "0 + 0 read1\n",
      "0 + 0 read2\n",
      "0 + 0 properly paired (N/A : N/A)\n",
      "0 + 0 with itself and mate mapped\n",
      "0 + 0 singletons (N/A : N/A)\n",
      "0 + 0 with mate mapped to a different chr\n",
      "0 + 0 with mate mapped to a different chr (mapQ>=5)\n",
      "\n",
      "\n",
      "\n"
     ]
    }
   ],
   "source": [
    "# Lets see how well our fastq files mapped to the reference genome\n",
    "for f in files:\n",
    "    depth_call = f\"samtools flagstat data/aligned/{f}.bam > data/stats/{f}.flagstat.out\"\n",
    "    proc_depth = sp.call(depth_call,shell=True)\n",
    "\n",
    "# Lets view the output\n",
    "for f in files:\n",
    "    print(f'mapping stats for {f}')\n",
    "    catfile_call = f\"cat data/stats/{f}.flagstat.out\"\n",
    "    proc_catfile = sp.call(catfile_call,shell=True)\n",
    "    print ('\\n'*2)\n"
   ]
  },
  {
   "cell_type": "code",
   "execution_count": 31,
   "id": "d2315495",
   "metadata": {},
   "outputs": [
    {
     "name": "stderr",
     "output_type": "stream",
     "text": [
      "Using GATK jar /Users/kyoconnell/miniconda3/share/gatk4-4.2.0.0-1/gatk-package-4.2.0.0-local.jar\n",
      "Running:\n",
      "    java -Dsamjdk.use_async_io_read_samtools=false -Dsamjdk.use_async_io_write_samtools=true -Dsamjdk.use_async_io_write_tribble=false -Dsamjdk.compression_level=2 -jar /Users/kyoconnell/miniconda3/share/gatk4-4.2.0.0-1/gatk-package-4.2.0.0-local.jar SortSam -I data/aligned/SRR13349122.bam -O data/sorted/SRR13349122.bam -SO coordinate\n",
      "14:51:53.357 INFO  NativeLibraryLoader - Loading libgkl_compression.dylib from jar:file:/Users/kyoconnell/miniconda3/share/gatk4-4.2.0.0-1/gatk-package-4.2.0.0-local.jar!/com/intel/gkl/native/libgkl_compression.dylib\n",
      "[Wed Aug 18 14:51:53 EDT 2021] SortSam --INPUT data/aligned/SRR13349122.bam --OUTPUT data/sorted/SRR13349122.bam --SORT_ORDER coordinate --VERBOSITY INFO --QUIET false --VALIDATION_STRINGENCY STRICT --COMPRESSION_LEVEL 2 --MAX_RECORDS_IN_RAM 500000 --CREATE_INDEX false --CREATE_MD5_FILE false --GA4GH_CLIENT_SECRETS client_secrets.json --help false --version false --showHidden false --USE_JDK_DEFLATER false --USE_JDK_INFLATER false\n",
      "[Wed Aug 18 14:51:53 EDT 2021] Executing as kyoconnell@USROSKYOCONNE1 on Mac OS X 10.16 x86_64; OpenJDK 64-Bit Server VM 1.8.0_152-release-1056-b12; Deflater: Intel; Inflater: Intel; Provider GCS is available; Picard version: Version:4.2.0.0\n",
      "INFO\t2021-08-18 14:51:53\tSortSam\tSeen many non-increasing record positions. Printing Read-names as well.\n",
      "INFO\t2021-08-18 14:52:04\tSortSam\tFinished reading inputs, merging and writing to output now.\n",
      "[Wed Aug 18 14:52:07 EDT 2021] picard.sam.SortSam done. Elapsed time: 0.23 minutes.\n",
      "Runtime.totalMemory()=1945108480\n"
     ]
    },
    {
     "name": "stdout",
     "output_type": "stream",
     "text": [
      "Tool returned:\n",
      "0\n"
     ]
    },
    {
     "name": "stderr",
     "output_type": "stream",
     "text": [
      "Using GATK jar /Users/kyoconnell/miniconda3/share/gatk4-4.2.0.0-1/gatk-package-4.2.0.0-local.jar\n",
      "Running:\n",
      "    java -Dsamjdk.use_async_io_read_samtools=false -Dsamjdk.use_async_io_write_samtools=true -Dsamjdk.use_async_io_write_tribble=false -Dsamjdk.compression_level=2 -jar /Users/kyoconnell/miniconda3/share/gatk4-4.2.0.0-1/gatk-package-4.2.0.0-local.jar SortSam -I data/aligned/SRR13349123.bam -O data/sorted/SRR13349123.bam -SO coordinate\n",
      "14:52:09.487 INFO  NativeLibraryLoader - Loading libgkl_compression.dylib from jar:file:/Users/kyoconnell/miniconda3/share/gatk4-4.2.0.0-1/gatk-package-4.2.0.0-local.jar!/com/intel/gkl/native/libgkl_compression.dylib\n",
      "[Wed Aug 18 14:52:09 EDT 2021] SortSam --INPUT data/aligned/SRR13349123.bam --OUTPUT data/sorted/SRR13349123.bam --SORT_ORDER coordinate --VERBOSITY INFO --QUIET false --VALIDATION_STRINGENCY STRICT --COMPRESSION_LEVEL 2 --MAX_RECORDS_IN_RAM 500000 --CREATE_INDEX false --CREATE_MD5_FILE false --GA4GH_CLIENT_SECRETS client_secrets.json --help false --version false --showHidden false --USE_JDK_DEFLATER false --USE_JDK_INFLATER false\n",
      "[Wed Aug 18 14:52:09 EDT 2021] Executing as kyoconnell@USROSKYOCONNE1 on Mac OS X 10.16 x86_64; OpenJDK 64-Bit Server VM 1.8.0_152-release-1056-b12; Deflater: Intel; Inflater: Intel; Provider GCS is available; Picard version: Version:4.2.0.0\n",
      "INFO\t2021-08-18 14:52:09\tSortSam\tSeen many non-increasing record positions. Printing Read-names as well.\n",
      "INFO\t2021-08-18 14:52:20\tSortSam\tFinished reading inputs, merging and writing to output now.\n"
     ]
    },
    {
     "name": "stdout",
     "output_type": "stream",
     "text": [
      "Tool returned:\n",
      "0\n"
     ]
    },
    {
     "name": "stderr",
     "output_type": "stream",
     "text": [
      "[Wed Aug 18 14:52:23 EDT 2021] picard.sam.SortSam done. Elapsed time: 0.23 minutes.\n",
      "Runtime.totalMemory()=1936719872\n"
     ]
    }
   ],
   "source": [
    "# Sort our BAM files so they are in the same order as the reference genome\n",
    "for f in files:\n",
    "    sort_call = f\"gatk SortSam -I data/aligned/{f}.bam -O data/sorted/{f}.bam -SO coordinate\"\n",
    "    proc_sort = sp.call(sort_call,shell=True)"
   ]
  },
  {
   "cell_type": "code",
   "execution_count": 33,
   "id": "70b658d4",
   "metadata": {},
   "outputs": [
    {
     "name": "stderr",
     "output_type": "stream",
     "text": [
      "Using GATK jar /Users/kyoconnell/miniconda3/share/gatk4-4.2.0.0-1/gatk-package-4.2.0.0-local.jar\n",
      "Running:\n",
      "    java -Dsamjdk.use_async_io_read_samtools=false -Dsamjdk.use_async_io_write_samtools=true -Dsamjdk.use_async_io_write_tribble=false -Dsamjdk.compression_level=2 -jar /Users/kyoconnell/miniconda3/share/gatk4-4.2.0.0-1/gatk-package-4.2.0.0-local.jar MarkDuplicates I=data/sorted/SRR13349122.bam O=data/mkdups/SRR13349122.bam M=data/mkdups/SRR13349122.metrics.txt\n",
      "INFO\t2021-08-18 14:52:53\tMarkDuplicates\t\n",
      "\n",
      "********** NOTE: Picard's command line syntax is changing.\n",
      "**********\n",
      "********** For more information, please see:\n",
      "********** https://github.com/broadinstitute/picard/wiki/Command-Line-Syntax-Transition-For-Users-(Pre-Transition)\n",
      "**********\n",
      "********** The command line looks like this in the new syntax:\n",
      "**********\n",
      "**********    MarkDuplicates -I data/sorted/SRR13349122.bam -O data/mkdups/SRR13349122.bam -M data/mkdups/SRR13349122.metrics.txt\n",
      "**********\n",
      "\n",
      "\n",
      "14:52:53.702 INFO  NativeLibraryLoader - Loading libgkl_compression.dylib from jar:file:/Users/kyoconnell/miniconda3/share/gatk4-4.2.0.0-1/gatk-package-4.2.0.0-local.jar!/com/intel/gkl/native/libgkl_compression.dylib\n",
      "[Wed Aug 18 14:52:53 EDT 2021] MarkDuplicates INPUT=[data/sorted/SRR13349122.bam] OUTPUT=data/mkdups/SRR13349122.bam METRICS_FILE=data/mkdups/SRR13349122.metrics.txt    MAX_SEQUENCES_FOR_DISK_READ_ENDS_MAP=50000 MAX_FILE_HANDLES_FOR_READ_ENDS_MAP=8000 SORTING_COLLECTION_SIZE_RATIO=0.25 TAG_DUPLICATE_SET_MEMBERS=false REMOVE_SEQUENCING_DUPLICATES=false TAGGING_POLICY=DontTag CLEAR_DT=true DUPLEX_UMI=false ADD_PG_TAG_TO_READS=true REMOVE_DUPLICATES=false ASSUME_SORTED=false DUPLICATE_SCORING_STRATEGY=SUM_OF_BASE_QUALITIES PROGRAM_RECORD_ID=MarkDuplicates PROGRAM_GROUP_NAME=MarkDuplicates READ_NAME_REGEX=<optimized capture of last three ':' separated fields as numeric values> OPTICAL_DUPLICATE_PIXEL_DISTANCE=100 MAX_OPTICAL_DUPLICATE_SET_SIZE=300000 VERBOSITY=INFO QUIET=false VALIDATION_STRINGENCY=STRICT COMPRESSION_LEVEL=2 MAX_RECORDS_IN_RAM=500000 CREATE_INDEX=false CREATE_MD5_FILE=false GA4GH_CLIENT_SECRETS=client_secrets.json USE_JDK_DEFLATER=false USE_JDK_INFLATER=false\n",
      "[Wed Aug 18 14:52:53 EDT 2021] Executing as kyoconnell@USROSKYOCONNE1 on Mac OS X 10.16 x86_64; OpenJDK 64-Bit Server VM 1.8.0_152-release-1056-b12; Deflater: Intel; Inflater: Intel; Provider GCS is available; Picard version: 4.2.0.0\n",
      "INFO\t2021-08-18 14:52:53\tMarkDuplicates\tStart of doWork freeMemory: 491197544; totalMemory: 506986496; maxMemory: 3817865216\n",
      "INFO\t2021-08-18 14:52:53\tMarkDuplicates\tReading input file and constructing read end information.\n",
      "INFO\t2021-08-18 14:52:53\tMarkDuplicates\tWill retain up to 13832844 data points before spilling to disk.\n",
      "WARNING\t2021-08-18 14:52:53\tAbstractOpticalDuplicateFinderCommandLineProgram\tA field field parsed out of a read name was expected to contain an integer and did not. Read name: SRR13349122.2763964. Cause: String 'SRR13349122.2763964' did not start with a parsable number.\n",
      "INFO\t2021-08-18 14:52:57\tMarkDuplicates\tRead     1,000,000 records.  Elapsed time: 00:00:03s.  Time for last 1,000,000:    3s.  Last read position: NZ_CP007220.1:1,432,411\n",
      "INFO\t2021-08-18 14:52:57\tMarkDuplicates\tTracking 0 as yet unmatched pairs. 0 records in RAM.\n",
      "INFO\t2021-08-18 14:53:00\tMarkDuplicates\tRead 1985433 records. 0 pairs never matched.\n",
      "INFO\t2021-08-18 14:53:01\tMarkDuplicates\tAfter buildSortedReadEndLists freeMemory: 1436019264; totalMemory: 1723334656; maxMemory: 3817865216\n",
      "INFO\t2021-08-18 14:53:01\tMarkDuplicates\tWill retain up to 119308288 duplicate indices before spilling to disk.\n",
      "INFO\t2021-08-18 14:53:01\tMarkDuplicates\tTraversing read pair information and detecting duplicates.\n",
      "INFO\t2021-08-18 14:53:01\tMarkDuplicates\tTraversing fragment information and detecting duplicates.\n",
      "INFO\t2021-08-18 14:53:01\tMarkDuplicates\tSorting list of duplicate records.\n",
      "INFO\t2021-08-18 14:53:02\tMarkDuplicates\tAfter generateDuplicateIndexes freeMemory: 1690876832; totalMemory: 2677538816; maxMemory: 3817865216\n",
      "INFO\t2021-08-18 14:53:02\tMarkDuplicates\tMarking 1889088 records as duplicates.\n",
      "INFO\t2021-08-18 14:53:02\tMarkDuplicates\tFound 0 optical duplicate clusters.\n",
      "INFO\t2021-08-18 14:53:02\tMarkDuplicates\tReads are assumed to be ordered by: coordinate\n",
      "INFO\t2021-08-18 14:53:05\tMarkDuplicates\tWriting complete. Closing input iterator.\n",
      "INFO\t2021-08-18 14:53:05\tMarkDuplicates\tDuplicate Index cleanup.\n",
      "INFO\t2021-08-18 14:53:05\tMarkDuplicates\tGetting Memory Stats.\n",
      "INFO\t2021-08-18 14:53:05\tMarkDuplicates\tBefore output close freeMemory: 2848494064; totalMemory: 2885681152; maxMemory: 3817865216\n",
      "INFO\t2021-08-18 14:53:05\tMarkDuplicates\tClosed outputs. Getting more Memory Stats.\n",
      "INFO\t2021-08-18 14:53:05\tMarkDuplicates\tAfter output close freeMemory: 2897944752; totalMemory: 2928148480; maxMemory: 3817865216\n",
      "[Wed Aug 18 14:53:05 EDT 2021] picard.sam.markduplicates.MarkDuplicates done. Elapsed time: 0.20 minutes.\n",
      "Runtime.totalMemory()=2928148480\n"
     ]
    },
    {
     "name": "stdout",
     "output_type": "stream",
     "text": [
      "Tool returned:\n",
      "0\n"
     ]
    },
    {
     "name": "stderr",
     "output_type": "stream",
     "text": [
      "Using GATK jar /Users/kyoconnell/miniconda3/share/gatk4-4.2.0.0-1/gatk-package-4.2.0.0-local.jar\n",
      "Running:\n",
      "    java -Dsamjdk.use_async_io_read_samtools=false -Dsamjdk.use_async_io_write_samtools=true -Dsamjdk.use_async_io_write_tribble=false -Dsamjdk.compression_level=2 -jar /Users/kyoconnell/miniconda3/share/gatk4-4.2.0.0-1/gatk-package-4.2.0.0-local.jar MarkDuplicates I=data/sorted/SRR13349123.bam O=data/mkdups/SRR13349123.bam M=data/mkdups/SRR13349123.metrics.txt\n",
      "INFO\t2021-08-18 14:53:07\tMarkDuplicates\t\n",
      "\n",
      "********** NOTE: Picard's command line syntax is changing.\n",
      "**********\n",
      "********** For more information, please see:\n",
      "********** https://github.com/broadinstitute/picard/wiki/Command-Line-Syntax-Transition-For-Users-(Pre-Transition)\n",
      "**********\n",
      "********** The command line looks like this in the new syntax:\n",
      "**********\n",
      "**********    MarkDuplicates -I data/sorted/SRR13349123.bam -O data/mkdups/SRR13349123.bam -M data/mkdups/SRR13349123.metrics.txt\n",
      "**********\n",
      "\n",
      "\n",
      "14:53:07.913 INFO  NativeLibraryLoader - Loading libgkl_compression.dylib from jar:file:/Users/kyoconnell/miniconda3/share/gatk4-4.2.0.0-1/gatk-package-4.2.0.0-local.jar!/com/intel/gkl/native/libgkl_compression.dylib\n",
      "[Wed Aug 18 14:53:07 EDT 2021] MarkDuplicates INPUT=[data/sorted/SRR13349123.bam] OUTPUT=data/mkdups/SRR13349123.bam METRICS_FILE=data/mkdups/SRR13349123.metrics.txt    MAX_SEQUENCES_FOR_DISK_READ_ENDS_MAP=50000 MAX_FILE_HANDLES_FOR_READ_ENDS_MAP=8000 SORTING_COLLECTION_SIZE_RATIO=0.25 TAG_DUPLICATE_SET_MEMBERS=false REMOVE_SEQUENCING_DUPLICATES=false TAGGING_POLICY=DontTag CLEAR_DT=true DUPLEX_UMI=false ADD_PG_TAG_TO_READS=true REMOVE_DUPLICATES=false ASSUME_SORTED=false DUPLICATE_SCORING_STRATEGY=SUM_OF_BASE_QUALITIES PROGRAM_RECORD_ID=MarkDuplicates PROGRAM_GROUP_NAME=MarkDuplicates READ_NAME_REGEX=<optimized capture of last three ':' separated fields as numeric values> OPTICAL_DUPLICATE_PIXEL_DISTANCE=100 MAX_OPTICAL_DUPLICATE_SET_SIZE=300000 VERBOSITY=INFO QUIET=false VALIDATION_STRINGENCY=STRICT COMPRESSION_LEVEL=2 MAX_RECORDS_IN_RAM=500000 CREATE_INDEX=false CREATE_MD5_FILE=false GA4GH_CLIENT_SECRETS=client_secrets.json USE_JDK_DEFLATER=false USE_JDK_INFLATER=false\n",
      "[Wed Aug 18 14:53:08 EDT 2021] Executing as kyoconnell@USROSKYOCONNE1 on Mac OS X 10.16 x86_64; OpenJDK 64-Bit Server VM 1.8.0_152-release-1056-b12; Deflater: Intel; Inflater: Intel; Provider GCS is available; Picard version: 4.2.0.0\n",
      "INFO\t2021-08-18 14:53:08\tMarkDuplicates\tStart of doWork freeMemory: 478897648; totalMemory: 494403584; maxMemory: 3817865216\n",
      "INFO\t2021-08-18 14:53:08\tMarkDuplicates\tReading input file and constructing read end information.\n",
      "INFO\t2021-08-18 14:53:08\tMarkDuplicates\tWill retain up to 13832844 data points before spilling to disk.\n",
      "WARNING\t2021-08-18 14:53:08\tAbstractOpticalDuplicateFinderCommandLineProgram\tA field field parsed out of a read name was expected to contain an integer and did not. Read name: SRR13349123.10133635. Cause: String 'SRR13349123.10133635' did not start with a parsable number.\n",
      "INFO\t2021-08-18 14:53:11\tMarkDuplicates\tRead     1,000,000 records.  Elapsed time: 00:00:03s.  Time for last 1,000,000:    3s.  Last read position: NZ_CP007220.1:1,432,408\n",
      "INFO\t2021-08-18 14:53:11\tMarkDuplicates\tTracking 0 as yet unmatched pairs. 0 records in RAM.\n",
      "INFO\t2021-08-18 14:53:14\tMarkDuplicates\tRead 1990036 records. 0 pairs never matched.\n",
      "INFO\t2021-08-18 14:53:15\tMarkDuplicates\tAfter buildSortedReadEndLists freeMemory: 1440659968; totalMemory: 1728053248; maxMemory: 3817865216\n",
      "INFO\t2021-08-18 14:53:15\tMarkDuplicates\tWill retain up to 119308288 duplicate indices before spilling to disk.\n",
      "INFO\t2021-08-18 14:53:15\tMarkDuplicates\tTraversing read pair information and detecting duplicates.\n",
      "INFO\t2021-08-18 14:53:15\tMarkDuplicates\tTraversing fragment information and detecting duplicates.\n",
      "INFO\t2021-08-18 14:53:15\tMarkDuplicates\tSorting list of duplicate records.\n",
      "INFO\t2021-08-18 14:53:16\tMarkDuplicates\tAfter generateDuplicateIndexes freeMemory: 1694247280; totalMemory: 2680684544; maxMemory: 3817865216\n",
      "INFO\t2021-08-18 14:53:16\tMarkDuplicates\tMarking 1881528 records as duplicates.\n",
      "INFO\t2021-08-18 14:53:16\tMarkDuplicates\tFound 0 optical duplicate clusters.\n",
      "INFO\t2021-08-18 14:53:16\tMarkDuplicates\tReads are assumed to be ordered by: coordinate\n",
      "INFO\t2021-08-18 14:53:19\tMarkDuplicates\tWriting complete. Closing input iterator.\n",
      "INFO\t2021-08-18 14:53:19\tMarkDuplicates\tDuplicate Index cleanup.\n",
      "INFO\t2021-08-18 14:53:19\tMarkDuplicates\tGetting Memory Stats.\n",
      "INFO\t2021-08-18 14:53:19\tMarkDuplicates\tBefore output close freeMemory: 2854069912; totalMemory: 2885156864; maxMemory: 3817865216\n",
      "INFO\t2021-08-18 14:53:19\tMarkDuplicates\tClosed outputs. Getting more Memory Stats.\n",
      "INFO\t2021-08-18 14:53:19\tMarkDuplicates\tAfter output close freeMemory: 2904427432; totalMemory: 2934439936; maxMemory: 3817865216\n",
      "[Wed Aug 18 14:53:19 EDT 2021] picard.sam.markduplicates.MarkDuplicates done. Elapsed time: 0.20 minutes.\n",
      "Runtime.totalMemory()=2934439936\n"
     ]
    },
    {
     "name": "stdout",
     "output_type": "stream",
     "text": [
      "Tool returned:\n",
      "0\n"
     ]
    }
   ],
   "source": [
    "# Mark Duplicates both from sequencing (optical) and the wetlab (PCR duplicates)\n",
    "for f in files:\n",
    "    dups_call = f\"gatk MarkDuplicates I=data/sorted/{f}.bam O=data/mkdups/{f}.bam M=data/mkdups/{f}.metrics.txt\"\n",
    "    proc_dups = sp.call(dups_call,shell=True)"
   ]
  },
  {
   "cell_type": "code",
   "execution_count": 34,
   "id": "e7611cc6",
   "metadata": {},
   "outputs": [],
   "source": [
    "# Index BAMS\n",
    "for f in files:\n",
    "    index_call = f\"samtools index -@ 4 data/mkdups/{f}.bam\"\n",
    "    proc_index = sp.call(index_call,shell=True)"
   ]
  },
  {
   "cell_type": "code",
   "execution_count": 35,
   "id": "2f5b9028",
   "metadata": {},
   "outputs": [
    {
     "name": "stderr",
     "output_type": "stream",
     "text": [
      "Using GATK jar /Users/kyoconnell/miniconda3/share/gatk4-4.2.0.0-1/gatk-package-4.2.0.0-local.jar\n",
      "Running:\n",
      "    java -Dsamjdk.use_async_io_read_samtools=false -Dsamjdk.use_async_io_write_samtools=true -Dsamjdk.use_async_io_write_tribble=false -Dsamjdk.compression_level=2 -jar /Users/kyoconnell/miniconda3/share/gatk4-4.2.0.0-1/gatk-package-4.2.0.0-local.jar HaplotypeCaller -I data/mkdups/SRR13349122.bam -O data/calls/SRR13349122.vcf -R data/reference/M_chelonae_NZ_CP007220.fasta --output-mode EMIT_VARIANTS_ONLY\n",
      "14:53:31.414 INFO  NativeLibraryLoader - Loading libgkl_compression.dylib from jar:file:/Users/kyoconnell/miniconda3/share/gatk4-4.2.0.0-1/gatk-package-4.2.0.0-local.jar!/com/intel/gkl/native/libgkl_compression.dylib\n",
      "14:53:31.549 INFO  HaplotypeCaller - ------------------------------------------------------------\n",
      "14:53:31.549 INFO  HaplotypeCaller - The Genome Analysis Toolkit (GATK) v4.2.0.0\n",
      "14:53:31.549 INFO  HaplotypeCaller - For support and documentation go to https://software.broadinstitute.org/gatk/\n",
      "14:53:31.550 INFO  HaplotypeCaller - Executing as kyoconnell@USROSKYOCONNE1 on Mac OS X v10.16 x86_64\n",
      "14:53:31.550 INFO  HaplotypeCaller - Java runtime: OpenJDK 64-Bit Server VM v1.8.0_152-release-1056-b12\n",
      "14:53:31.550 INFO  HaplotypeCaller - Start Date/Time: August 18, 2021 2:53:31 PM EDT\n",
      "14:53:31.550 INFO  HaplotypeCaller - ------------------------------------------------------------\n",
      "14:53:31.550 INFO  HaplotypeCaller - ------------------------------------------------------------\n",
      "14:53:31.550 INFO  HaplotypeCaller - HTSJDK Version: 2.24.0\n",
      "14:53:31.550 INFO  HaplotypeCaller - Picard Version: 2.25.0\n",
      "14:53:31.550 INFO  HaplotypeCaller - Built for Spark Version: 2.4.5\n",
      "14:53:31.550 INFO  HaplotypeCaller - HTSJDK Defaults.COMPRESSION_LEVEL : 2\n",
      "14:53:31.550 INFO  HaplotypeCaller - HTSJDK Defaults.USE_ASYNC_IO_READ_FOR_SAMTOOLS : false\n",
      "14:53:31.550 INFO  HaplotypeCaller - HTSJDK Defaults.USE_ASYNC_IO_WRITE_FOR_SAMTOOLS : true\n",
      "14:53:31.550 INFO  HaplotypeCaller - HTSJDK Defaults.USE_ASYNC_IO_WRITE_FOR_TRIBBLE : false\n",
      "14:53:31.551 INFO  HaplotypeCaller - Deflater: IntelDeflater\n",
      "14:53:31.551 INFO  HaplotypeCaller - Inflater: IntelInflater\n",
      "14:53:31.551 INFO  HaplotypeCaller - GCS max retries/reopens: 20\n",
      "14:53:31.551 INFO  HaplotypeCaller - Requester pays: disabled\n",
      "14:53:31.551 INFO  HaplotypeCaller - Initializing engine\n",
      "14:53:31.902 INFO  HaplotypeCaller - Done initializing engine\n",
      "14:53:31.908 INFO  HaplotypeCallerEngine - Disabling physical phasing, which is supported only for reference-model confidence output\n",
      "14:53:31.922 INFO  NativeLibraryLoader - Loading libgkl_utils.dylib from jar:file:/Users/kyoconnell/miniconda3/share/gatk4-4.2.0.0-1/gatk-package-4.2.0.0-local.jar!/com/intel/gkl/native/libgkl_utils.dylib\n",
      "14:53:31.924 WARN  NativeLibraryLoader - Unable to find native library: native/libgkl_pairhmm_omp.dylib\n",
      "14:53:31.925 INFO  PairHMM - OpenMP multi-threaded AVX-accelerated native PairHMM implementation is not supported\n",
      "14:53:31.925 INFO  NativeLibraryLoader - Loading libgkl_pairhmm.dylib from jar:file:/Users/kyoconnell/miniconda3/share/gatk4-4.2.0.0-1/gatk-package-4.2.0.0-local.jar!/com/intel/gkl/native/libgkl_pairhmm.dylib\n",
      "14:53:31.940 INFO  IntelPairHmm - Flush-to-zero (FTZ) is enabled when running PairHMM\n",
      "14:53:31.941 WARN  IntelPairHmm - Ignoring request for 4 threads; not using OpenMP implementation\n",
      "14:53:31.941 INFO  PairHMM - Using the AVX-accelerated native PairHMM implementation\n",
      "14:53:31.960 INFO  ProgressMeter - Starting traversal\n",
      "14:53:31.960 INFO  ProgressMeter -        Current Locus  Elapsed Minutes     Regions Processed   Regions/Minute\n",
      "14:53:33.349 WARN  InbreedingCoeff - InbreedingCoeff will not be calculated at position NZ_CP007220.1:124925 and possibly subsequent; at least 10 samples must have called genotypes\n",
      "14:53:41.965 INFO  ProgressMeter - NZ_CP007220.1:2920053              0.2                 12460          74722.6\n",
      "14:53:46.145 INFO  HaplotypeCaller - 620 read(s) filtered by: MappingQualityReadFilter \n",
      "0 read(s) filtered by: MappingQualityAvailableReadFilter \n",
      "0 read(s) filtered by: MappedReadFilter \n",
      "0 read(s) filtered by: NotSecondaryAlignmentReadFilter \n",
      "1888893 read(s) filtered by: NotDuplicateReadFilter \n",
      "0 read(s) filtered by: PassesVendorQualityCheckReadFilter \n",
      "0 read(s) filtered by: NonZeroReferenceLengthAlignmentReadFilter \n",
      "0 read(s) filtered by: GoodCigarReadFilter \n",
      "0 read(s) filtered by: WellformedReadFilter \n",
      "1889513 total reads filtered\n",
      "14:53:46.145 INFO  ProgressMeter - NZ_CP007220.1:5029251              0.2                 21392          90484.3\n",
      "14:53:46.145 INFO  ProgressMeter - Traversal complete. Processed 21392 total regions in 0.2 minutes.\n",
      "14:53:46.149 INFO  VectorLoglessPairHMM - Time spent in setup for JNI call : 0.0014665650000000002\n",
      "14:53:46.149 INFO  PairHMM - Total compute time in PairHMM computeLogLikelihoods() : 0.014006477000000002\n",
      "14:53:46.149 INFO  SmithWatermanAligner - Total compute time in java Smith-Waterman : 0.02 sec\n",
      "14:53:46.149 INFO  HaplotypeCaller - Shutting down engine\n",
      "[August 18, 2021 2:53:46 PM EDT] org.broadinstitute.hellbender.tools.walkers.haplotypecaller.HaplotypeCaller done. Elapsed time: 0.25 minutes.\n",
      "Runtime.totalMemory()=1550843904\n",
      "Using GATK jar /Users/kyoconnell/miniconda3/share/gatk4-4.2.0.0-1/gatk-package-4.2.0.0-local.jar\n",
      "Running:\n",
      "    java -Dsamjdk.use_async_io_read_samtools=false -Dsamjdk.use_async_io_write_samtools=true -Dsamjdk.use_async_io_write_tribble=false -Dsamjdk.compression_level=2 -jar /Users/kyoconnell/miniconda3/share/gatk4-4.2.0.0-1/gatk-package-4.2.0.0-local.jar HaplotypeCaller -I data/mkdups/SRR13349123.bam -O data/calls/SRR13349123.vcf -R data/reference/M_chelonae_NZ_CP007220.fasta --output-mode EMIT_VARIANTS_ONLY\n",
      "14:53:48.402 INFO  NativeLibraryLoader - Loading libgkl_compression.dylib from jar:file:/Users/kyoconnell/miniconda3/share/gatk4-4.2.0.0-1/gatk-package-4.2.0.0-local.jar!/com/intel/gkl/native/libgkl_compression.dylib\n",
      "14:53:48.528 INFO  HaplotypeCaller - ------------------------------------------------------------\n",
      "14:53:48.529 INFO  HaplotypeCaller - The Genome Analysis Toolkit (GATK) v4.2.0.0\n",
      "14:53:48.529 INFO  HaplotypeCaller - For support and documentation go to https://software.broadinstitute.org/gatk/\n",
      "14:53:48.529 INFO  HaplotypeCaller - Executing as kyoconnell@USROSKYOCONNE1 on Mac OS X v10.16 x86_64\n",
      "14:53:48.529 INFO  HaplotypeCaller - Java runtime: OpenJDK 64-Bit Server VM v1.8.0_152-release-1056-b12\n",
      "14:53:48.529 INFO  HaplotypeCaller - Start Date/Time: August 18, 2021 2:53:48 PM EDT\n",
      "14:53:48.529 INFO  HaplotypeCaller - ------------------------------------------------------------\n",
      "14:53:48.529 INFO  HaplotypeCaller - ------------------------------------------------------------\n",
      "14:53:48.529 INFO  HaplotypeCaller - HTSJDK Version: 2.24.0\n",
      "14:53:48.529 INFO  HaplotypeCaller - Picard Version: 2.25.0\n",
      "14:53:48.529 INFO  HaplotypeCaller - Built for Spark Version: 2.4.5\n",
      "14:53:48.529 INFO  HaplotypeCaller - HTSJDK Defaults.COMPRESSION_LEVEL : 2\n",
      "14:53:48.529 INFO  HaplotypeCaller - HTSJDK Defaults.USE_ASYNC_IO_READ_FOR_SAMTOOLS : false\n",
      "14:53:48.529 INFO  HaplotypeCaller - HTSJDK Defaults.USE_ASYNC_IO_WRITE_FOR_SAMTOOLS : true\n",
      "14:53:48.529 INFO  HaplotypeCaller - HTSJDK Defaults.USE_ASYNC_IO_WRITE_FOR_TRIBBLE : false\n",
      "14:53:48.530 INFO  HaplotypeCaller - Deflater: IntelDeflater\n",
      "14:53:48.530 INFO  HaplotypeCaller - Inflater: IntelInflater\n",
      "14:53:48.530 INFO  HaplotypeCaller - GCS max retries/reopens: 20\n",
      "14:53:48.530 INFO  HaplotypeCaller - Requester pays: disabled\n",
      "14:53:48.530 INFO  HaplotypeCaller - Initializing engine\n",
      "14:53:48.865 INFO  HaplotypeCaller - Done initializing engine\n",
      "14:53:48.870 INFO  HaplotypeCallerEngine - Disabling physical phasing, which is supported only for reference-model confidence output\n",
      "14:53:48.882 INFO  NativeLibraryLoader - Loading libgkl_utils.dylib from jar:file:/Users/kyoconnell/miniconda3/share/gatk4-4.2.0.0-1/gatk-package-4.2.0.0-local.jar!/com/intel/gkl/native/libgkl_utils.dylib\n",
      "14:53:48.884 WARN  NativeLibraryLoader - Unable to find native library: native/libgkl_pairhmm_omp.dylib\n",
      "14:53:48.884 INFO  PairHMM - OpenMP multi-threaded AVX-accelerated native PairHMM implementation is not supported\n",
      "14:53:48.884 INFO  NativeLibraryLoader - Loading libgkl_pairhmm.dylib from jar:file:/Users/kyoconnell/miniconda3/share/gatk4-4.2.0.0-1/gatk-package-4.2.0.0-local.jar!/com/intel/gkl/native/libgkl_pairhmm.dylib\n",
      "14:53:48.896 INFO  IntelPairHmm - Flush-to-zero (FTZ) is enabled when running PairHMM\n",
      "14:53:48.897 WARN  IntelPairHmm - Ignoring request for 4 threads; not using OpenMP implementation\n",
      "14:53:48.897 INFO  PairHMM - Using the AVX-accelerated native PairHMM implementation\n",
      "14:53:48.917 INFO  ProgressMeter - Starting traversal\n",
      "14:53:48.917 INFO  ProgressMeter -        Current Locus  Elapsed Minutes     Regions Processed   Regions/Minute\n"
     ]
    },
    {
     "name": "stderr",
     "output_type": "stream",
     "text": [
      "14:53:50.882 WARN  InbreedingCoeff - InbreedingCoeff will not be calculated at position NZ_CP007220.1:240681 and possibly subsequent; at least 10 samples must have called genotypes\n",
      "14:53:58.922 INFO  ProgressMeter - NZ_CP007220.1:2483573              0.2                 10920          65487.3\n",
      "14:54:04.887 INFO  HaplotypeCaller - 671 read(s) filtered by: MappingQualityReadFilter \n",
      "0 read(s) filtered by: MappingQualityAvailableReadFilter \n",
      "0 read(s) filtered by: MappedReadFilter \n",
      "0 read(s) filtered by: NotSecondaryAlignmentReadFilter \n",
      "1881338 read(s) filtered by: NotDuplicateReadFilter \n",
      "0 read(s) filtered by: PassesVendorQualityCheckReadFilter \n",
      "0 read(s) filtered by: NonZeroReferenceLengthAlignmentReadFilter \n",
      "0 read(s) filtered by: GoodCigarReadFilter \n",
      "0 read(s) filtered by: WellformedReadFilter \n",
      "1882009 total reads filtered\n",
      "14:54:04.887 INFO  ProgressMeter - NZ_CP007220.1:5029685              0.3                 22151          83222.3\n",
      "14:54:04.887 INFO  ProgressMeter - Traversal complete. Processed 22151 total regions in 0.3 minutes.\n",
      "14:54:04.892 INFO  VectorLoglessPairHMM - Time spent in setup for JNI call : 0.002172822\n",
      "14:54:04.892 INFO  PairHMM - Total compute time in PairHMM computeLogLikelihoods() : 0.059421538\n",
      "14:54:04.892 INFO  SmithWatermanAligner - Total compute time in java Smith-Waterman : 0.05 sec\n",
      "14:54:04.892 INFO  HaplotypeCaller - Shutting down engine\n",
      "[August 18, 2021 2:54:04 PM EDT] org.broadinstitute.hellbender.tools.walkers.haplotypecaller.HaplotypeCaller done. Elapsed time: 0.28 minutes.\n",
      "Runtime.totalMemory()=1544552448\n"
     ]
    }
   ],
   "source": [
    "# Call variants using GATK HaplotypeCAller\n",
    "for f in files:\n",
    "    var_call = f\"gatk HaplotypeCaller -I data/mkdups/{f}.bam -O data/calls/{f}.vcf -R {REF} --output-mode EMIT_VARIANTS_ONLY\"\n",
    "    proc_var = sp.call(var_call,shell=True)"
   ]
  },
  {
   "cell_type": "code",
   "execution_count": 36,
   "id": "3d337cbc",
   "metadata": {},
   "outputs": [
    {
     "name": "stderr",
     "output_type": "stream",
     "text": [
      "\n",
      "VCFtools - 0.1.16\n",
      "(C) Adam Auton and Anthony Marcketta 2009\n",
      "\n",
      "Parameters as interpreted:\n",
      "\t--vcf data/calls/SRR13349122.vcf\n",
      "\n",
      "Warning: Expected at least 2 parts in FORMAT entry: ID=PL,Number=G,Type=Integer,Description=\"Normalized, Phred-scaled likelihoods for genotypes as defined in the VCF specification\">\n",
      "Warning: Expected at least 2 parts in INFO entry: ID=AC,Number=A,Type=Integer,Description=\"Allele count in genotypes, for each ALT allele, in the same order as listed\">\n",
      "Warning: Expected at least 2 parts in INFO entry: ID=AC,Number=A,Type=Integer,Description=\"Allele count in genotypes, for each ALT allele, in the same order as listed\">\n",
      "Warning: Expected at least 2 parts in INFO entry: ID=AF,Number=A,Type=Float,Description=\"Allele Frequency, for each ALT allele, in the same order as listed\">\n",
      "Warning: Expected at least 2 parts in INFO entry: ID=AF,Number=A,Type=Float,Description=\"Allele Frequency, for each ALT allele, in the same order as listed\">\n",
      "Warning: Expected at least 2 parts in INFO entry: ID=MLEAC,Number=A,Type=Integer,Description=\"Maximum likelihood expectation (MLE) for the allele counts (not necessarily the same as the AC), for each ALT allele, in the same order as listed\">\n",
      "Warning: Expected at least 2 parts in INFO entry: ID=MLEAC,Number=A,Type=Integer,Description=\"Maximum likelihood expectation (MLE) for the allele counts (not necessarily the same as the AC), for each ALT allele, in the same order as listed\">\n",
      "Warning: Expected at least 2 parts in INFO entry: ID=MLEAF,Number=A,Type=Float,Description=\"Maximum likelihood expectation (MLE) for the allele frequency (not necessarily the same as the AF), for each ALT allele, in the same order as listed\">\n",
      "Warning: Expected at least 2 parts in INFO entry: ID=MLEAF,Number=A,Type=Float,Description=\"Maximum likelihood expectation (MLE) for the allele frequency (not necessarily the same as the AF), for each ALT allele, in the same order as listed\">\n",
      "After filtering, kept 1 out of 1 Individuals\n",
      "After filtering, kept 22 out of a possible 22 Sites\n",
      "Run Time = 0.00 seconds\n",
      "\n",
      "VCFtools - 0.1.16\n",
      "(C) Adam Auton and Anthony Marcketta 2009\n",
      "\n",
      "Parameters as interpreted:\n",
      "\t--vcf data/calls/SRR13349123.vcf\n",
      "\n",
      "Warning: Expected at least 2 parts in FORMAT entry: ID=PL,Number=G,Type=Integer,Description=\"Normalized, Phred-scaled likelihoods for genotypes as defined in the VCF specification\">\n",
      "Warning: Expected at least 2 parts in INFO entry: ID=AC,Number=A,Type=Integer,Description=\"Allele count in genotypes, for each ALT allele, in the same order as listed\">\n",
      "Warning: Expected at least 2 parts in INFO entry: ID=AC,Number=A,Type=Integer,Description=\"Allele count in genotypes, for each ALT allele, in the same order as listed\">\n",
      "Warning: Expected at least 2 parts in INFO entry: ID=AF,Number=A,Type=Float,Description=\"Allele Frequency, for each ALT allele, in the same order as listed\">\n",
      "Warning: Expected at least 2 parts in INFO entry: ID=AF,Number=A,Type=Float,Description=\"Allele Frequency, for each ALT allele, in the same order as listed\">\n",
      "Warning: Expected at least 2 parts in INFO entry: ID=MLEAC,Number=A,Type=Integer,Description=\"Maximum likelihood expectation (MLE) for the allele counts (not necessarily the same as the AC), for each ALT allele, in the same order as listed\">\n",
      "Warning: Expected at least 2 parts in INFO entry: ID=MLEAC,Number=A,Type=Integer,Description=\"Maximum likelihood expectation (MLE) for the allele counts (not necessarily the same as the AC), for each ALT allele, in the same order as listed\">\n",
      "Warning: Expected at least 2 parts in INFO entry: ID=MLEAF,Number=A,Type=Float,Description=\"Maximum likelihood expectation (MLE) for the allele frequency (not necessarily the same as the AF), for each ALT allele, in the same order as listed\">\n",
      "Warning: Expected at least 2 parts in INFO entry: ID=MLEAF,Number=A,Type=Float,Description=\"Maximum likelihood expectation (MLE) for the allele frequency (not necessarily the same as the AF), for each ALT allele, in the same order as listed\">\n",
      "After filtering, kept 1 out of 1 Individuals\n",
      "After filtering, kept 18 out of a possible 18 Sites\n",
      "Run Time = 0.00 seconds\n"
     ]
    }
   ],
   "source": [
    "# Let's see how many variants we have! \n",
    "# How many variants do we have? \n",
    "for f in files:\n",
    "    vcf_call = f\"vcftools --vcf data/calls/{f}.vcf\"\n",
    "    proc_vcf = sp.call(vcf_call,shell=True)"
   ]
  }
 ],
 "metadata": {
  "kernelspec": {
   "display_name": "Python 3 (ipykernel)",
   "language": "python",
   "name": "python3"
  },
  "language_info": {
   "codemirror_mode": {
    "name": "ipython",
    "version": 3
   },
   "file_extension": ".py",
   "mimetype": "text/x-python",
   "name": "python",
   "nbconvert_exporter": "python",
   "pygments_lexer": "ipython3",
   "version": "3.9.5"
  }
 },
 "nbformat": 4,
 "nbformat_minor": 5
}
